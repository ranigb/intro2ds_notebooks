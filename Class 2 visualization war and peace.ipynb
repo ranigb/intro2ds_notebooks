{
 "cells": [
  {
   "cell_type": "code",
   "execution_count": null,
   "metadata": {},
   "outputs": [],
   "source": [
    "import pandas as pd\n",
    "import numpy as np\n",
    "import matplotlib.pyplot as plt\n",
    "from scipy import stats\n"
   ]
  },
  {
   "cell_type": "markdown",
   "metadata": {},
   "source": [
    "## War and Peace"
   ]
  },
  {
   "cell_type": "markdown",
   "metadata": {},
   "source": [
    "הסטוריונים רבים אומרים, כי הצרפתים לא נצחו בקרָב הבורודינאי מפני שאחזה נַזֶּלֶת את נפּוליון; כי אִלו לא אחזַתּו נַזֶּלֶת, היו פקֻדותיו לפני הקרָב ובשעת הקרָב גאוניות עוד יותר, ורוסיה היתה נופלת לבלי קום עוד ופני הארץ היו לובשים צורה אחרת. ההסטוריונים המאמינים, כי רוסיה נוצרה ברצונו של אדם אחד, - של פטר הגדול, - וכי צרפת נהפכה מרֶפֻּבּליקה לקֵיסָרוּת וצבאותיה הלכו לרוסיה ברצונו של אדם אחד, - של נפוליון, - אם יאמרו הסטוריונים כאלה כדבר הזה, שרוסיה לא חדלה להיות ממלכה אדירה, יען כי נַזֶּלֶת קשה תקפה את נפוליון ביום כ\"ו לאוגוסט, אינם אלא הולכים לשיטתם.\n",
    "\n",
    "אם היה תלוי ברצונו של נפוליון לערוך קרָב בבורודינו או שלא לערוך, והיה יכול לצַוּוֹת לעשות כה או כה, ברור הוא, שאותה הַנַּזֶּלֶת, שהשפיעה על הבעת רצונו, יכלה להיות לסִבּת הצלת רוסיה, ואותו המשרת, ששכח לתת לנפוליון ביום כ\"ד נעלים שאינן סופגות מים, הוא שהציל את רוסיה. בדרך-הִגָּיון זה היא מסקנה שאינה מוטלת בספק; ברורה היא על-פי זה כמסקנתו של ווֹלְטֶר, שהביע בלעגו (בבלי דעת בעצמו, מה הלעג הזה), שמעשֵׂה לֵיל בר-תלמי יָצָא מקלקול קֵבָתוֹ של קַרל התשיעי. אך בעיני אנשים, שאינם מקבלים דעה זו, שרוסיה נוצרה ברצונו של אדם אחד, של פּטר הראשון, ושהקיסרות הצרפתית קָמָה והמלחמה עם רוסיה נעשתה ברצונו של אדם יחידי – של נפוליון, לא רק לא נכוֹנה סברה זו, כי-אם גם מתנגדת לכל הטבע האנושי. על השאלה, מה היא סִבַּת המעשים ההסטוריים, עולה תשובה אחרת, והיא, שמהלך מעשׂי-עולם נוֹעָד מראש מלמעלה ותלוי הוא בהצטרפות כל רצונותיהם של האנשים המשתתפים בהם, והשפעת הנפוליונים על מהלך המעשים האלה אינה אלא חיצונית ומדֻמָּה.\n",
    "\n",
    "אמנם לכאורה משֻׁנָּה מאד היא ההשערה, כי מעשה ליל בר-תלמי, שֶׁקַּרל התשיעי צוה לעשותו, לא ברצונו נעשׂה, ורק נדמה לו, שהוא המצַוֶּה, וכי הַמַּטְבֵּחַ הבּורודינאי, שנפלו בו שמונים אלף חללים, הוכן לא ברצונו של נפוליון (אף-על-פי שהוא צִוה על התחלת הקרָב ועל מהלכו), ורק נדמה לו, שהוא המצוה, - אמנם השערה זאת נראית כמשֻׁנָּה מאד, אבל כבוד האדם, המדַבּר אלי, כי כל אחד מאתנו אדם הוא, אם לא יותר, על-כל-פנים לא פחות מכל נפוליון שבעולם, מצַוה לקבל תשובה זו על השאלה הזאת; וחקירות הסטוריות מסַיעות הרבה להשערה הזאת.\n",
    "\n",
    "בקרָב הבּורודינאי לא ירה נפוליון ולא הרג איש. כל זה עשו אנשי-הצבא. לא הוא אפוא הפיל חללים."
   ]
  },
  {
   "cell_type": "code",
   "execution_count": null,
   "metadata": {},
   "outputs": [],
   "source": [
    "counts = {}\n",
    "with open('book-war-and-peace.txt','r') as file:\n",
    "    for line in file:\n",
    "        for word in line.split():\n",
    "            if (word in counts):\n",
    "                counts[word] += 1\n",
    "            else:\n",
    "                counts[word] = 1\n",
    "                \n",
    "                \n",
    "\n"
   ]
  },
  {
   "cell_type": "code",
   "execution_count": null,
   "metadata": {},
   "outputs": [],
   "source": [
    "values = list(counts.values())\n",
    "counts_of_counts = np.zeros(1+max(counts.values())) \n",
    "for i in values:\n",
    "    counts_of_counts[i] += 1\n",
    "    \n",
    "x = range(1, len(counts_of_counts))\n",
    "y = counts_of_counts[1:]"
   ]
  },
  {
   "cell_type": "code",
   "execution_count": null,
   "metadata": {},
   "outputs": [],
   "source": [
    "plt.plot(x,y)"
   ]
  },
  {
   "cell_type": "code",
   "execution_count": null,
   "metadata": {},
   "outputs": [],
   "source": [
    "plt.plot(x,np.log(y))"
   ]
  },
  {
   "cell_type": "code",
   "execution_count": null,
   "metadata": {},
   "outputs": [],
   "source": [
    "plt.plot(np.log(x),y)"
   ]
  },
  {
   "cell_type": "code",
   "execution_count": null,
   "metadata": {},
   "outputs": [],
   "source": [
    "plt.xscale('log')\n",
    "plt.plot(x,y)"
   ]
  },
  {
   "cell_type": "code",
   "execution_count": null,
   "metadata": {
    "scrolled": true
   },
   "outputs": [],
   "source": [
    "plt.loglog(x,y)"
   ]
  },
  {
   "cell_type": "code",
   "execution_count": null,
   "metadata": {},
   "outputs": [],
   "source": [
    "plt.title('War and Peace word statistics')\n",
    "plt.xlabel('number of appearences in the text')\n",
    "plt.ylabel('number of words')\n",
    "plt.grid()\n",
    "plt.loglog(x,y)"
   ]
  },
  {
   "cell_type": "code",
   "execution_count": null,
   "metadata": {},
   "outputs": [],
   "source": [
    "from sklearn.linear_model import LinearRegression\n",
    "\n",
    "model = LinearRegression().fit(X = np.log(x[0:50]).reshape(-1, 1), y = np.log(y[0:50]).reshape(-1, 1))\n",
    "print(\"slope\" , model.coef_, \"intercept \", model.intercept_)\n"
   ]
  },
  {
   "cell_type": "code",
   "execution_count": null,
   "metadata": {},
   "outputs": [],
   "source": [
    "plt.title('War and Peace word statistics')\n",
    "plt.xlabel('number of appearences in the text')\n",
    "plt.ylabel('number of words')\n",
    "plt.grid()\n",
    "plt.loglog(x,y)\n",
    "\n",
    "def f(n):\n",
    "  return model.intercept_[0] + np.log(n) * model.coef_[0]  \n",
    "\n",
    "plt.loglog([1, 1000], np.exp([f(1), f(1000)]))"
   ]
  },
  {
   "cell_type": "code",
   "execution_count": null,
   "metadata": {},
   "outputs": [],
   "source": [
    "ratios = counts_of_counts / sum(counts_of_counts)"
   ]
  },
  {
   "cell_type": "code",
   "execution_count": null,
   "metadata": {},
   "outputs": [],
   "source": [
    "stats.describe(ratios)"
   ]
  },
  {
   "cell_type": "markdown",
   "metadata": {},
   "source": [
    "## skewness - how simetric is the distribution\n",
    "\\begin{equation}\n",
    "E\\left[\\left(\\frac{x-\\mu}{\\sigma}\\right)^3\\right]\n",
    "\\end{equation}"
   ]
  },
  {
   "cell_type": "markdown",
   "metadata": {},
   "source": [
    "## kurtosis - how heavy tailed is the distribution\n",
    "\\begin{equation}\n",
    "E\\left[\\left(\\frac{x-\\mu}{\\sigma}\\right)^4\\right]\n",
    "\\end{equation}"
   ]
  }
 ],
 "metadata": {
  "kernelspec": {
   "display_name": "Python 3 (ipykernel)",
   "language": "python",
   "name": "python3"
  },
  "language_info": {
   "codemirror_mode": {
    "name": "ipython",
    "version": 3
   },
   "file_extension": ".py",
   "mimetype": "text/x-python",
   "name": "python",
   "nbconvert_exporter": "python",
   "pygments_lexer": "ipython3",
   "version": "3.9.7"
  }
 },
 "nbformat": 4,
 "nbformat_minor": 2
}
