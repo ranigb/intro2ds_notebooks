{
 "cells": [
  {
   "cell_type": "code",
   "execution_count": 1,
   "metadata": {},
   "outputs": [],
   "source": [
    "import pandas as pd\n",
    "import numpy as np\n",
    "import matplotlib.pyplot as plt\n",
    "from scipy import stats\n",
    "\n",
    "titanic = pd.read_csv('titanic.csv')"
   ]
  },
  {
   "cell_type": "markdown",
   "metadata": {},
   "source": [
    "\n",
    "|Variable|Definition|Key| \n",
    "| :- | :- | :- |\n",
    "|survival|Survival|0 = No, 1 = Yes|\n",
    "|pclass|\tTicket class|\t1 = 1st, 2 = 2nd, 3 = 3rd|\n",
    "|sex|\tSex\t| |\n",
    "|Age\t|Age in years| |\t\n",
    "|sibsp|\t# of siblings / spouses aboard the Titanic\t| |\n",
    "|parch|\t# of parents / children aboard the Titanic\t| |\n",
    "|ticket|\tTicket number\t| |\n",
    "|fare|\tPassenger fare\t| |\n",
    "|cabin|\tCabin number\t| |\n",
    "|embarked|\tPort of Embarkation|\tC = Cherbourg, Q = Queenstown, S = Southampton|\n"
   ]
  },
  {
   "cell_type": "code",
   "execution_count": 2,
   "metadata": {},
   "outputs": [
    {
     "data": {
      "text/html": [
       "<div>\n",
       "<style scoped>\n",
       "    .dataframe tbody tr th:only-of-type {\n",
       "        vertical-align: middle;\n",
       "    }\n",
       "\n",
       "    .dataframe tbody tr th {\n",
       "        vertical-align: top;\n",
       "    }\n",
       "\n",
       "    .dataframe thead th {\n",
       "        text-align: right;\n",
       "    }\n",
       "</style>\n",
       "<table border=\"1\" class=\"dataframe\">\n",
       "  <thead>\n",
       "    <tr style=\"text-align: right;\">\n",
       "      <th></th>\n",
       "      <th>PassengerId</th>\n",
       "      <th>Survived</th>\n",
       "      <th>Pclass</th>\n",
       "      <th>Name</th>\n",
       "      <th>Sex</th>\n",
       "      <th>Age</th>\n",
       "      <th>SibSp</th>\n",
       "      <th>Parch</th>\n",
       "      <th>Ticket</th>\n",
       "      <th>Fare</th>\n",
       "      <th>Cabin</th>\n",
       "      <th>Embarked</th>\n",
       "    </tr>\n",
       "  </thead>\n",
       "  <tbody>\n",
       "    <tr>\n",
       "      <th>0</th>\n",
       "      <td>1</td>\n",
       "      <td>0</td>\n",
       "      <td>3</td>\n",
       "      <td>Braund, Mr. Owen Harris</td>\n",
       "      <td>male</td>\n",
       "      <td>22.0</td>\n",
       "      <td>1</td>\n",
       "      <td>0</td>\n",
       "      <td>A/5 21171</td>\n",
       "      <td>7.2500</td>\n",
       "      <td>NaN</td>\n",
       "      <td>S</td>\n",
       "    </tr>\n",
       "    <tr>\n",
       "      <th>1</th>\n",
       "      <td>2</td>\n",
       "      <td>1</td>\n",
       "      <td>1</td>\n",
       "      <td>Cumings, Mrs. John Bradley (Florence Briggs Th...</td>\n",
       "      <td>female</td>\n",
       "      <td>38.0</td>\n",
       "      <td>1</td>\n",
       "      <td>0</td>\n",
       "      <td>PC 17599</td>\n",
       "      <td>71.2833</td>\n",
       "      <td>C85</td>\n",
       "      <td>C</td>\n",
       "    </tr>\n",
       "    <tr>\n",
       "      <th>2</th>\n",
       "      <td>3</td>\n",
       "      <td>1</td>\n",
       "      <td>3</td>\n",
       "      <td>Heikkinen, Miss. Laina</td>\n",
       "      <td>female</td>\n",
       "      <td>26.0</td>\n",
       "      <td>0</td>\n",
       "      <td>0</td>\n",
       "      <td>STON/O2. 3101282</td>\n",
       "      <td>7.9250</td>\n",
       "      <td>NaN</td>\n",
       "      <td>S</td>\n",
       "    </tr>\n",
       "    <tr>\n",
       "      <th>3</th>\n",
       "      <td>4</td>\n",
       "      <td>1</td>\n",
       "      <td>1</td>\n",
       "      <td>Futrelle, Mrs. Jacques Heath (Lily May Peel)</td>\n",
       "      <td>female</td>\n",
       "      <td>35.0</td>\n",
       "      <td>1</td>\n",
       "      <td>0</td>\n",
       "      <td>113803</td>\n",
       "      <td>53.1000</td>\n",
       "      <td>C123</td>\n",
       "      <td>S</td>\n",
       "    </tr>\n",
       "    <tr>\n",
       "      <th>4</th>\n",
       "      <td>5</td>\n",
       "      <td>0</td>\n",
       "      <td>3</td>\n",
       "      <td>Allen, Mr. William Henry</td>\n",
       "      <td>male</td>\n",
       "      <td>35.0</td>\n",
       "      <td>0</td>\n",
       "      <td>0</td>\n",
       "      <td>373450</td>\n",
       "      <td>8.0500</td>\n",
       "      <td>NaN</td>\n",
       "      <td>S</td>\n",
       "    </tr>\n",
       "    <tr>\n",
       "      <th>...</th>\n",
       "      <td>...</td>\n",
       "      <td>...</td>\n",
       "      <td>...</td>\n",
       "      <td>...</td>\n",
       "      <td>...</td>\n",
       "      <td>...</td>\n",
       "      <td>...</td>\n",
       "      <td>...</td>\n",
       "      <td>...</td>\n",
       "      <td>...</td>\n",
       "      <td>...</td>\n",
       "      <td>...</td>\n",
       "    </tr>\n",
       "    <tr>\n",
       "      <th>886</th>\n",
       "      <td>887</td>\n",
       "      <td>0</td>\n",
       "      <td>2</td>\n",
       "      <td>Montvila, Rev. Juozas</td>\n",
       "      <td>male</td>\n",
       "      <td>27.0</td>\n",
       "      <td>0</td>\n",
       "      <td>0</td>\n",
       "      <td>211536</td>\n",
       "      <td>13.0000</td>\n",
       "      <td>NaN</td>\n",
       "      <td>S</td>\n",
       "    </tr>\n",
       "    <tr>\n",
       "      <th>887</th>\n",
       "      <td>888</td>\n",
       "      <td>1</td>\n",
       "      <td>1</td>\n",
       "      <td>Graham, Miss. Margaret Edith</td>\n",
       "      <td>female</td>\n",
       "      <td>19.0</td>\n",
       "      <td>0</td>\n",
       "      <td>0</td>\n",
       "      <td>112053</td>\n",
       "      <td>30.0000</td>\n",
       "      <td>B42</td>\n",
       "      <td>S</td>\n",
       "    </tr>\n",
       "    <tr>\n",
       "      <th>888</th>\n",
       "      <td>889</td>\n",
       "      <td>0</td>\n",
       "      <td>3</td>\n",
       "      <td>Johnston, Miss. Catherine Helen \"Carrie\"</td>\n",
       "      <td>female</td>\n",
       "      <td>NaN</td>\n",
       "      <td>1</td>\n",
       "      <td>2</td>\n",
       "      <td>W./C. 6607</td>\n",
       "      <td>23.4500</td>\n",
       "      <td>NaN</td>\n",
       "      <td>S</td>\n",
       "    </tr>\n",
       "    <tr>\n",
       "      <th>889</th>\n",
       "      <td>890</td>\n",
       "      <td>1</td>\n",
       "      <td>1</td>\n",
       "      <td>Behr, Mr. Karl Howell</td>\n",
       "      <td>male</td>\n",
       "      <td>26.0</td>\n",
       "      <td>0</td>\n",
       "      <td>0</td>\n",
       "      <td>111369</td>\n",
       "      <td>30.0000</td>\n",
       "      <td>C148</td>\n",
       "      <td>C</td>\n",
       "    </tr>\n",
       "    <tr>\n",
       "      <th>890</th>\n",
       "      <td>891</td>\n",
       "      <td>0</td>\n",
       "      <td>3</td>\n",
       "      <td>Dooley, Mr. Patrick</td>\n",
       "      <td>male</td>\n",
       "      <td>32.0</td>\n",
       "      <td>0</td>\n",
       "      <td>0</td>\n",
       "      <td>370376</td>\n",
       "      <td>7.7500</td>\n",
       "      <td>NaN</td>\n",
       "      <td>Q</td>\n",
       "    </tr>\n",
       "  </tbody>\n",
       "</table>\n",
       "<p>891 rows × 12 columns</p>\n",
       "</div>"
      ],
      "text/plain": [
       "     PassengerId  Survived  Pclass  \\\n",
       "0              1         0       3   \n",
       "1              2         1       1   \n",
       "2              3         1       3   \n",
       "3              4         1       1   \n",
       "4              5         0       3   \n",
       "..           ...       ...     ...   \n",
       "886          887         0       2   \n",
       "887          888         1       1   \n",
       "888          889         0       3   \n",
       "889          890         1       1   \n",
       "890          891         0       3   \n",
       "\n",
       "                                                  Name     Sex   Age  SibSp  \\\n",
       "0                              Braund, Mr. Owen Harris    male  22.0      1   \n",
       "1    Cumings, Mrs. John Bradley (Florence Briggs Th...  female  38.0      1   \n",
       "2                               Heikkinen, Miss. Laina  female  26.0      0   \n",
       "3         Futrelle, Mrs. Jacques Heath (Lily May Peel)  female  35.0      1   \n",
       "4                             Allen, Mr. William Henry    male  35.0      0   \n",
       "..                                                 ...     ...   ...    ...   \n",
       "886                              Montvila, Rev. Juozas    male  27.0      0   \n",
       "887                       Graham, Miss. Margaret Edith  female  19.0      0   \n",
       "888           Johnston, Miss. Catherine Helen \"Carrie\"  female   NaN      1   \n",
       "889                              Behr, Mr. Karl Howell    male  26.0      0   \n",
       "890                                Dooley, Mr. Patrick    male  32.0      0   \n",
       "\n",
       "     Parch            Ticket     Fare Cabin Embarked  \n",
       "0        0         A/5 21171   7.2500   NaN        S  \n",
       "1        0          PC 17599  71.2833   C85        C  \n",
       "2        0  STON/O2. 3101282   7.9250   NaN        S  \n",
       "3        0            113803  53.1000  C123        S  \n",
       "4        0            373450   8.0500   NaN        S  \n",
       "..     ...               ...      ...   ...      ...  \n",
       "886      0            211536  13.0000   NaN        S  \n",
       "887      0            112053  30.0000   B42        S  \n",
       "888      2        W./C. 6607  23.4500   NaN        S  \n",
       "889      0            111369  30.0000  C148        C  \n",
       "890      0            370376   7.7500   NaN        Q  \n",
       "\n",
       "[891 rows x 12 columns]"
      ]
     },
     "execution_count": 2,
     "metadata": {},
     "output_type": "execute_result"
    }
   ],
   "source": [
    "titanic"
   ]
  },
  {
   "cell_type": "markdown",
   "metadata": {},
   "source": [
    "# Passenger Id"
   ]
  },
  {
   "cell_type": "code",
   "execution_count": 3,
   "metadata": {},
   "outputs": [
    {
     "data": {
      "text/plain": [
       "DescribeResult(nobs=891, minmax=(1, 891), mean=446.0, variance=66231.0, skewness=0.0, kurtosis=-1.200003023126921)"
      ]
     },
     "execution_count": 3,
     "metadata": {},
     "output_type": "execute_result"
    }
   ],
   "source": [
    "stats.describe(titanic['PassengerId'])"
   ]
  },
  {
   "cell_type": "code",
   "execution_count": 4,
   "metadata": {},
   "outputs": [
    {
     "data": {
      "text/plain": [
       "257.20938292890224"
      ]
     },
     "execution_count": 4,
     "metadata": {},
     "output_type": "execute_result"
    }
   ],
   "source": [
    "np.std(titanic['PassengerId'])"
   ]
  },
  {
   "cell_type": "code",
   "execution_count": 5,
   "metadata": {},
   "outputs": [
    {
     "data": {
      "text/plain": [
       "[<matplotlib.lines.Line2D at 0x7fd765b7c1c0>]"
      ]
     },
     "execution_count": 5,
     "metadata": {},
     "output_type": "execute_result"
    },
    {
     "data": {
      "image/png": "[encoded data removed]",
      "text/plain": [
       "<Figure size 432x288 with 1 Axes>"
      ]
     },
     "metadata": {
      "needs_background": "light"
     },
     "output_type": "display_data"
    }
   ],
   "source": [
    "plt.plot(titanic['PassengerId'])"
   ]
  },
  {
   "cell_type": "markdown",
   "metadata": {},
   "source": [
    "# Survived"
   ]
  },
  {
   "cell_type": "code",
   "execution_count": 6,
   "metadata": {},
   "outputs": [
    {
     "data": {
      "text/plain": [
       "DescribeResult(nobs=891, minmax=(0, 1), mean=0.3838383838383838, variance=0.23677221654749742, skewness=0.4777174662568536, kurtosis=-1.7717860224331319)"
      ]
     },
     "execution_count": 6,
     "metadata": {},
     "output_type": "execute_result"
    }
   ],
   "source": [
    "stats.describe(titanic['Survived'])"
   ]
  },
  {
   "cell_type": "code",
   "execution_count": 7,
   "metadata": {},
   "outputs": [
    {
     "data": {
      "image/png": "[encoded data removed]",
      "text/plain": [
       "<Figure size 432x288 with 1 Axes>"
      ]
     },
     "metadata": {
      "needs_background": "light"
     },
     "output_type": "display_data"
    }
   ],
   "source": [
    "h=plt.hist(titanic['Survived'])"
   ]
  },
  {
   "cell_type": "code",
   "execution_count": 8,
   "metadata": {},
   "outputs": [
    {
     "data": {
      "text/plain": [
       "([<matplotlib.axis.XTick at 0x7fd75da3e370>,\n",
       "  <matplotlib.axis.XTick at 0x7fd75da3e340>],\n",
       " [Text(0, 0, 'no'), Text(1, 0, 'yes')])"
      ]
     },
     "execution_count": 8,
     "metadata": {},
     "output_type": "execute_result"
    },
    {
     "data": {
      "image/png": "[encoded data removed]",
      "text/plain": [
       "<Figure size 432x288 with 1 Axes>"
      ]
     },
     "metadata": {
      "needs_background": "light"
     },
     "output_type": "display_data"
    }
   ],
   "source": [
    "h=plt.hist(titanic['Survived'])\n",
    "plt.title('Titanic Survival')\n",
    "plt.ylabel('number of passengers')\n",
    "plt.xticks([0,1],['no', 'yes'])"
   ]
  },
  {
   "cell_type": "markdown",
   "metadata": {},
   "source": [
    "# Age"
   ]
  },
  {
   "cell_type": "code",
   "execution_count": 9,
   "metadata": {},
   "outputs": [
    {
     "data": {
      "text/plain": [
       "DescribeResult(nobs=891, minmax=(nan, nan), mean=nan, variance=nan, skewness=nan, kurtosis=nan)"
      ]
     },
     "execution_count": 9,
     "metadata": {},
     "output_type": "execute_result"
    }
   ],
   "source": [
    "stats.describe(titanic['Age'])"
   ]
  },
  {
   "cell_type": "code",
   "execution_count": 10,
   "metadata": {},
   "outputs": [
    {
     "data": {
      "text/plain": [
       "0      22.0\n",
       "1      38.0\n",
       "2      26.0\n",
       "3      35.0\n",
       "4      35.0\n",
       "       ... \n",
       "886    27.0\n",
       "887    19.0\n",
       "888     NaN\n",
       "889    26.0\n",
       "890    32.0\n",
       "Name: Age, Length: 891, dtype: float64"
      ]
     },
     "execution_count": 10,
     "metadata": {},
     "output_type": "execute_result"
    }
   ],
   "source": [
    "titanic['Age']"
   ]
  },
  {
   "cell_type": "code",
   "execution_count": 11,
   "metadata": {},
   "outputs": [
    {
     "data": {
      "text/plain": [
       "DescribeResult(nobs=714, minmax=(0.42, 80.0), mean=29.69911764705882, variance=211.01912474630805, skewness=0.3882898514698657, kurtosis=0.16863657224286044)"
      ]
     },
     "execution_count": 11,
     "metadata": {},
     "output_type": "execute_result"
    }
   ],
   "source": [
    "ages = titanic['Age'].dropna()\n",
    "stats.describe(ages)"
   ]
  },
  {
   "cell_type": "code",
   "execution_count": 12,
   "metadata": {},
   "outputs": [
    {
     "data": {
      "text/plain": [
       "14.516321150817316"
      ]
     },
     "execution_count": 12,
     "metadata": {},
     "output_type": "execute_result"
    }
   ],
   "source": [
    "np.std(ages)"
   ]
  },
  {
   "cell_type": "code",
   "execution_count": 13,
   "metadata": {},
   "outputs": [
    {
     "data": {
      "text/plain": [
       "[<matplotlib.lines.Line2D at 0x7fd75d9cebb0>]"
      ]
     },
     "execution_count": 13,
     "metadata": {},
     "output_type": "execute_result"
    },
    {
     "data": {
      "image/png": "[encoded data removed]",
      "text/plain": [
       "<Figure size 432x288 with 1 Axes>"
      ]
     },
     "metadata": {
      "needs_background": "light"
     },
     "output_type": "display_data"
    }
   ],
   "source": [
    "plt.plot(ages)"
   ]
  },
  {
   "cell_type": "code",
   "execution_count": 14,
   "metadata": {},
   "outputs": [
    {
     "data": {
      "text/plain": [
       "[<matplotlib.lines.Line2D at 0x7fd75d94d310>]"
      ]
     },
     "execution_count": 14,
     "metadata": {},
     "output_type": "execute_result"
    },
    {
     "data": {
      "image/png": "[encoded data removed]",
      "text/plain": [
       "<Figure size 432x288 with 1 Axes>"
      ]
     },
     "metadata": {
      "needs_background": "light"
     },
     "output_type": "display_data"
    }
   ],
   "source": [
    "plt.plot(np.sort(ages))"
   ]
  },
  {
   "cell_type": "code",
   "execution_count": 15,
   "metadata": {},
   "outputs": [
    {
     "data": {
      "image/png": "[encoded data removed]",
      "text/plain": [
       "<Figure size 432x288 with 1 Axes>"
      ]
     },
     "metadata": {
      "needs_background": "light"
     },
     "output_type": "display_data"
    }
   ],
   "source": [
    "plt.plot(np.sort(ages))\n",
    "plt.grid()"
   ]
  },
  {
   "cell_type": "code",
   "execution_count": 16,
   "metadata": {},
   "outputs": [
    {
     "data": {
      "text/plain": [
       "Text(0.5, 0, 'number of passengers')"
      ]
     },
     "execution_count": 16,
     "metadata": {},
     "output_type": "execute_result"
    },
    {
     "data": {
      "image/png": "[encoded data removed]",
      "text/plain": [
       "<Figure size 432x288 with 1 Axes>"
      ]
     },
     "metadata": {
      "needs_background": "light"
     },
     "output_type": "display_data"
    }
   ],
   "source": [
    "plt.plot(np.sort(ages))\n",
    "plt.grid()\n",
    "plt.title('age cumulative distribution')\n",
    "plt.ylabel('age (in years)')\n",
    "plt.xlabel('number of passengers')"
   ]
  },
  {
   "cell_type": "code",
   "execution_count": 17,
   "metadata": {},
   "outputs": [
    {
     "data": {
      "text/plain": [
       "Text(0.5, 1.0, 'Titanic passengers age histogram')"
      ]
     },
     "execution_count": 17,
     "metadata": {},
     "output_type": "execute_result"
    },
    {
     "data": {
      "image/png": "[encoded data removed]",
      "text/plain": [
       "<Figure size 432x288 with 1 Axes>"
      ]
     },
     "metadata": {
      "needs_background": "light"
     },
     "output_type": "display_data"
    }
   ],
   "source": [
    "h=plt.hist(ages)\n",
    "plt.title(\"Titanic passengers age histogram\")"
   ]
  },
  {
   "cell_type": "code",
   "execution_count": 18,
   "metadata": {},
   "outputs": [
    {
     "data": {
      "text/plain": [
       "Text(0.5, 1.0, 'Titanic passengers age histogram')"
      ]
     },
     "execution_count": 18,
     "metadata": {},
     "output_type": "execute_result"
    },
    {
     "data": {
      "image/png": "[encoded data removed]",
      "text/plain": [
       "<Figure size 432x288 with 1 Axes>"
      ]
     },
     "metadata": {
      "needs_background": "light"
     },
     "output_type": "display_data"
    }
   ],
   "source": [
    "h=plt.hist(ages, bins=30)\n",
    "plt.title(\"Titanic passengers age histogram\")"
   ]
  },
  {
   "cell_type": "code",
   "execution_count": 19,
   "metadata": {},
   "outputs": [
    {
     "data": {
      "text/plain": [
       "Text(0.5, 1.0, 'Titanic passengers age histogram')"
      ]
     },
     "execution_count": 19,
     "metadata": {},
     "output_type": "execute_result"
    },
    {
     "data": {
      "image/png": "[encoded data removed]",
      "text/plain": [
       "<Figure size 432x288 with 1 Axes>"
      ]
     },
     "metadata": {
      "needs_background": "light"
     },
     "output_type": "display_data"
    }
   ],
   "source": [
    "h=plt.hist(ages, bins=range(0,81))\n",
    "plt.title(\"Titanic passengers age histogram\")"
   ]
  },
  {
   "cell_type": "code",
   "execution_count": 20,
   "metadata": {},
   "outputs": [
    {
     "data": {
      "text/plain": [
       "array([ 0.42,  0.67,  0.75,  0.75,  0.83,  0.83,  0.92,  1.  ,  1.  ,\n",
       "        1.  ,  1.  ,  1.  ,  1.  ,  1.  ,  2.  ,  2.  ,  2.  ,  2.  ,\n",
       "        2.  ,  2.  ,  2.  ,  2.  ,  2.  ,  2.  ,  3.  ,  3.  ,  3.  ,\n",
       "        3.  ,  3.  ,  3.  ,  4.  ,  4.  ,  4.  ,  4.  ,  4.  ,  4.  ,\n",
       "        4.  ,  4.  ,  4.  ,  4.  ,  5.  ,  5.  ,  5.  ,  5.  ,  6.  ,\n",
       "        6.  ,  6.  ,  7.  ,  7.  ,  7.  ,  8.  ,  8.  ,  8.  ,  8.  ,\n",
       "        9.  ,  9.  ,  9.  ,  9.  ,  9.  ,  9.  ,  9.  ,  9.  , 10.  ,\n",
       "       10.  , 11.  , 11.  , 11.  , 11.  , 12.  , 13.  , 13.  , 14.  ,\n",
       "       14.  , 14.  , 14.  , 14.  , 14.  , 14.5 , 15.  , 15.  , 15.  ,\n",
       "       15.  , 15.  , 16.  , 16.  , 16.  , 16.  , 16.  , 16.  , 16.  ,\n",
       "       16.  , 16.  , 16.  , 16.  , 16.  , 16.  , 16.  , 16.  , 16.  ,\n",
       "       16.  , 17.  , 17.  , 17.  , 17.  , 17.  , 17.  , 17.  , 17.  ,\n",
       "       17.  , 17.  , 17.  , 17.  , 17.  , 18.  , 18.  , 18.  , 18.  ,\n",
       "       18.  , 18.  , 18.  , 18.  , 18.  , 18.  , 18.  , 18.  , 18.  ,\n",
       "       18.  , 18.  , 18.  , 18.  , 18.  , 18.  , 18.  , 18.  , 18.  ,\n",
       "       18.  , 18.  , 18.  , 18.  , 19.  , 19.  , 19.  , 19.  , 19.  ,\n",
       "       19.  , 19.  , 19.  , 19.  , 19.  , 19.  , 19.  , 19.  , 19.  ,\n",
       "       19.  , 19.  , 19.  , 19.  , 19.  , 19.  , 19.  , 19.  , 19.  ,\n",
       "       19.  , 19.  , 20.  , 20.  , 20.  , 20.  , 20.  , 20.  , 20.  ,\n",
       "       20.  , 20.  , 20.  , 20.  , 20.  , 20.  , 20.  , 20.  , 20.5 ,\n",
       "       21.  , 21.  , 21.  , 21.  , 21.  , 21.  , 21.  , 21.  , 21.  ,\n",
       "       21.  , 21.  , 21.  , 21.  , 21.  , 21.  , 21.  , 21.  , 21.  ,\n",
       "       21.  , 21.  , 21.  , 21.  , 21.  , 21.  , 22.  , 22.  , 22.  ,\n",
       "       22.  , 22.  , 22.  , 22.  , 22.  , 22.  , 22.  , 22.  , 22.  ,\n",
       "       22.  , 22.  , 22.  , 22.  , 22.  , 22.  , 22.  , 22.  , 22.  ,\n",
       "       22.  , 22.  , 22.  , 22.  , 22.  , 22.  , 23.  , 23.  , 23.  ,\n",
       "       23.  , 23.  , 23.  , 23.  , 23.  , 23.  , 23.  , 23.  , 23.  ,\n",
       "       23.  , 23.  , 23.  , 23.5 , 24.  , 24.  , 24.  , 24.  , 24.  ,\n",
       "       24.  , 24.  , 24.  , 24.  , 24.  , 24.  , 24.  , 24.  , 24.  ,\n",
       "       24.  , 24.  , 24.  , 24.  , 24.  , 24.  , 24.  , 24.  , 24.  ,\n",
       "       24.  , 24.  , 24.  , 24.  , 24.  , 24.  , 24.  , 24.5 , 25.  ,\n",
       "       25.  , 25.  , 25.  , 25.  , 25.  , 25.  , 25.  , 25.  , 25.  ,\n",
       "       25.  , 25.  , 25.  , 25.  , 25.  , 25.  , 25.  , 25.  , 25.  ,\n",
       "       25.  , 25.  , 25.  , 25.  , 26.  , 26.  , 26.  , 26.  , 26.  ,\n",
       "       26.  , 26.  , 26.  , 26.  , 26.  , 26.  , 26.  , 26.  , 26.  ,\n",
       "       26.  , 26.  , 26.  , 26.  , 27.  , 27.  , 27.  , 27.  , 27.  ,\n",
       "       27.  , 27.  , 27.  , 27.  , 27.  , 27.  , 27.  , 27.  , 27.  ,\n",
       "       27.  , 27.  , 27.  , 27.  , 28.  , 28.  , 28.  , 28.  , 28.  ,\n",
       "       28.  , 28.  , 28.  , 28.  , 28.  , 28.  , 28.  , 28.  , 28.  ,\n",
       "       28.  , 28.  , 28.  , 28.  , 28.  , 28.  , 28.  , 28.  , 28.  ,\n",
       "       28.  , 28.  , 28.5 , 28.5 , 29.  , 29.  , 29.  , 29.  , 29.  ,\n",
       "       29.  , 29.  , 29.  , 29.  , 29.  , 29.  , 29.  , 29.  , 29.  ,\n",
       "       29.  , 29.  , 29.  , 29.  , 29.  , 29.  , 30.  , 30.  , 30.  ,\n",
       "       30.  , 30.  , 30.  , 30.  , 30.  , 30.  , 30.  , 30.  , 30.  ,\n",
       "       30.  , 30.  , 30.  , 30.  , 30.  , 30.  , 30.  , 30.  , 30.  ,\n",
       "       30.  , 30.  , 30.  , 30.  , 30.5 , 30.5 , 31.  , 31.  , 31.  ,\n",
       "       31.  , 31.  , 31.  , 31.  , 31.  , 31.  , 31.  , 31.  , 31.  ,\n",
       "       31.  , 31.  , 31.  , 31.  , 31.  , 32.  , 32.  , 32.  , 32.  ,\n",
       "       32.  , 32.  , 32.  , 32.  , 32.  , 32.  , 32.  , 32.  , 32.  ,\n",
       "       32.  , 32.  , 32.  , 32.  , 32.  , 32.5 , 32.5 , 33.  , 33.  ,\n",
       "       33.  , 33.  , 33.  , 33.  , 33.  , 33.  , 33.  , 33.  , 33.  ,\n",
       "       33.  , 33.  , 33.  , 33.  , 34.  , 34.  , 34.  , 34.  , 34.  ,\n",
       "       34.  , 34.  , 34.  , 34.  , 34.  , 34.  , 34.  , 34.  , 34.  ,\n",
       "       34.  , 34.5 , 35.  , 35.  , 35.  , 35.  , 35.  , 35.  , 35.  ,\n",
       "       35.  , 35.  , 35.  , 35.  , 35.  , 35.  , 35.  , 35.  , 35.  ,\n",
       "       35.  , 35.  , 36.  , 36.  , 36.  , 36.  , 36.  , 36.  , 36.  ,\n",
       "       36.  , 36.  , 36.  , 36.  , 36.  , 36.  , 36.  , 36.  , 36.  ,\n",
       "       36.  , 36.  , 36.  , 36.  , 36.  , 36.  , 36.5 , 37.  , 37.  ,\n",
       "       37.  , 37.  , 37.  , 37.  , 38.  , 38.  , 38.  , 38.  , 38.  ,\n",
       "       38.  , 38.  , 38.  , 38.  , 38.  , 38.  , 39.  , 39.  , 39.  ,\n",
       "       39.  , 39.  , 39.  , 39.  , 39.  , 39.  , 39.  , 39.  , 39.  ,\n",
       "       39.  , 39.  , 40.  , 40.  , 40.  , 40.  , 40.  , 40.  , 40.  ,\n",
       "       40.  , 40.  , 40.  , 40.  , 40.  , 40.  , 40.5 , 40.5 , 41.  ,\n",
       "       41.  , 41.  , 41.  , 41.  , 41.  , 42.  , 42.  , 42.  , 42.  ,\n",
       "       42.  , 42.  , 42.  , 42.  , 42.  , 42.  , 42.  , 42.  , 42.  ,\n",
       "       43.  , 43.  , 43.  , 43.  , 43.  , 44.  , 44.  , 44.  , 44.  ,\n",
       "       44.  , 44.  , 44.  , 44.  , 44.  , 45.  , 45.  , 45.  , 45.  ,\n",
       "       45.  , 45.  , 45.  , 45.  , 45.  , 45.  , 45.  , 45.  , 45.5 ,\n",
       "       45.5 , 46.  , 46.  , 46.  , 47.  , 47.  , 47.  , 47.  , 47.  ,\n",
       "       47.  , 47.  , 47.  , 47.  , 48.  , 48.  , 48.  , 48.  , 48.  ,\n",
       "       48.  , 48.  , 48.  , 48.  , 49.  , 49.  , 49.  , 49.  , 49.  ,\n",
       "       49.  , 50.  , 50.  , 50.  , 50.  , 50.  , 50.  , 50.  , 50.  ,\n",
       "       50.  , 50.  , 51.  , 51.  , 51.  , 51.  , 51.  , 51.  , 51.  ,\n",
       "       52.  , 52.  , 52.  , 52.  , 52.  , 52.  , 53.  , 54.  , 54.  ,\n",
       "       54.  , 54.  , 54.  , 54.  , 54.  , 54.  , 55.  , 55.  , 55.5 ,\n",
       "       56.  , 56.  , 56.  , 56.  , 57.  , 57.  , 58.  , 58.  , 58.  ,\n",
       "       58.  , 58.  , 59.  , 59.  , 60.  , 60.  , 60.  , 60.  , 61.  ,\n",
       "       61.  , 61.  , 62.  , 62.  , 62.  , 62.  , 63.  , 63.  , 64.  ,\n",
       "       64.  , 65.  , 65.  , 65.  , 66.  , 70.  , 70.  , 70.5 , 71.  ,\n",
       "       71.  , 74.  , 80.  ])"
      ]
     },
     "execution_count": 20,
     "metadata": {},
     "output_type": "execute_result"
    }
   ],
   "source": [
    "np.sort(ages)"
   ]
  },
  {
   "cell_type": "code",
   "execution_count": 21,
   "metadata": {},
   "outputs": [
    {
     "data": {
      "text/plain": [
       "Text(0.5, 1.0, 'Different visualization of Titanic passengers age distribution')"
      ]
     },
     "execution_count": 21,
     "metadata": {},
     "output_type": "execute_result"
    },
    {
     "data": {
      "image/png": "[encoded data removed]",
      "text/plain": [
       "<Figure size 432x288 with 3 Axes>"
      ]
     },
     "metadata": {
      "needs_background": "light"
     },
     "output_type": "display_data"
    }
   ],
   "source": [
    "plt.subplot(1,3,1)\n",
    "h=plt.hist(ages, bins=range(0,81,10))\n",
    "plt.subplot(1,3,2)\n",
    "t=plt.pie(h[0], labels=h[1][1:])\n",
    "plt.subplot(1,3,3)\n",
    "t=plt.pie(h[0], labels=h[1][1:])\n",
    "circle = plt.Circle((0,0), 0.5, color='white')\n",
    "p=plt.gcf()\n",
    "t=p.gca().add_artist(circle)\n",
    "plt.title(\"Different visualization of Titanic passengers age distribution\")"
   ]
  },
  {
   "cell_type": "code",
   "execution_count": 22,
   "metadata": {},
   "outputs": [
    {
     "data": {
      "text/plain": [
       "Text(0.5, 1.0, 'Different visualization of Titanic passengers age distribution')"
      ]
     },
     "execution_count": 22,
     "metadata": {},
     "output_type": "execute_result"
    },
    {
     "data": {
      "image/png": "[encoded data removed]",
      "text/plain": [
       "<Figure size 432x288 with 3 Axes>"
      ]
     },
     "metadata": {
      "needs_background": "light"
     },
     "output_type": "display_data"
    }
   ],
   "source": [
    "plt.subplot(1,3,1)\n",
    "h=plt.hist(ages, bins=range(0,81,5))\n",
    "plt.subplot(1,3,2)\n",
    "t=plt.pie(h[0], labels=h[1][1:])\n",
    "plt.subplot(1,3,3)\n",
    "t=plt.pie(h[0], labels=h[1][1:])\n",
    "circle = plt.Circle((0,0), 0.5, color='white')\n",
    "p=plt.gcf()\n",
    "t=p.gca().add_artist(circle)\n",
    "plt.title(\"Different visualization of Titanic passengers age distribution\")"
   ]
  },
  {
   "cell_type": "markdown",
   "metadata": {},
   "source": [
    "# Sex"
   ]
  },
  {
   "cell_type": "code",
   "execution_count": 23,
   "metadata": {},
   "outputs": [
    {
     "ename": "TypeError",
     "evalue": "ufunc 'true_divide' not supported for the input types, and the inputs could not be safely coerced to any supported types according to the casting rule ''safe''",
     "output_type": "error",
     "traceback": [
      "\u001b[0;31m---------------------------------------------------------------------------\u001b[0m",
      "\u001b[0;31mTypeError\u001b[0m                                 Traceback (most recent call last)",
      "Input \u001b[0;32mIn [23]\u001b[0m, in \u001b[0;36m<module>\u001b[0;34m\u001b[0m\n\u001b[0;32m----> 1\u001b[0m \u001b[43mstats\u001b[49m\u001b[38;5;241;43m.\u001b[39;49m\u001b[43mdescribe\u001b[49m\u001b[43m(\u001b[49m\u001b[43mtitanic\u001b[49m\u001b[43m[\u001b[49m\u001b[38;5;124;43m'\u001b[39;49m\u001b[38;5;124;43mSex\u001b[39;49m\u001b[38;5;124;43m'\u001b[39;49m\u001b[43m]\u001b[49m\u001b[43m)\u001b[49m\n",
      "File \u001b[0;32m/opt/tljh/user/lib/python3.9/site-packages/scipy/stats/_stats_py.py:1262\u001b[0m, in \u001b[0;36mdescribe\u001b[0;34m(a, axis, ddof, bias, nan_policy)\u001b[0m\n\u001b[1;32m   1260\u001b[0m n \u001b[38;5;241m=\u001b[39m a\u001b[38;5;241m.\u001b[39mshape[axis]\n\u001b[1;32m   1261\u001b[0m mm \u001b[38;5;241m=\u001b[39m (np\u001b[38;5;241m.\u001b[39mmin(a, axis\u001b[38;5;241m=\u001b[39maxis), np\u001b[38;5;241m.\u001b[39mmax(a, axis\u001b[38;5;241m=\u001b[39maxis))\n\u001b[0;32m-> 1262\u001b[0m m \u001b[38;5;241m=\u001b[39m \u001b[43mnp\u001b[49m\u001b[38;5;241;43m.\u001b[39;49m\u001b[43mmean\u001b[49m\u001b[43m(\u001b[49m\u001b[43ma\u001b[49m\u001b[43m,\u001b[49m\u001b[43m \u001b[49m\u001b[43maxis\u001b[49m\u001b[38;5;241;43m=\u001b[39;49m\u001b[43maxis\u001b[49m\u001b[43m)\u001b[49m\n\u001b[1;32m   1263\u001b[0m v \u001b[38;5;241m=\u001b[39m np\u001b[38;5;241m.\u001b[39mvar(a, axis\u001b[38;5;241m=\u001b[39maxis, ddof\u001b[38;5;241m=\u001b[39mddof)\n\u001b[1;32m   1264\u001b[0m sk \u001b[38;5;241m=\u001b[39m skew(a, axis, bias\u001b[38;5;241m=\u001b[39mbias)\n",
      "File \u001b[0;32m<__array_function__ internals>:180\u001b[0m, in \u001b[0;36mmean\u001b[0;34m(*args, **kwargs)\u001b[0m\n",
      "File \u001b[0;32m/opt/tljh/user/lib/python3.9/site-packages/numpy/core/fromnumeric.py:3474\u001b[0m, in \u001b[0;36mmean\u001b[0;34m(a, axis, dtype, out, keepdims, where)\u001b[0m\n\u001b[1;32m   3471\u001b[0m     \u001b[38;5;28;01melse\u001b[39;00m:\n\u001b[1;32m   3472\u001b[0m         \u001b[38;5;28;01mreturn\u001b[39;00m mean(axis\u001b[38;5;241m=\u001b[39maxis, dtype\u001b[38;5;241m=\u001b[39mdtype, out\u001b[38;5;241m=\u001b[39mout, \u001b[38;5;241m*\u001b[39m\u001b[38;5;241m*\u001b[39mkwargs)\n\u001b[0;32m-> 3474\u001b[0m \u001b[38;5;28;01mreturn\u001b[39;00m \u001b[43m_methods\u001b[49m\u001b[38;5;241;43m.\u001b[39;49m\u001b[43m_mean\u001b[49m\u001b[43m(\u001b[49m\u001b[43ma\u001b[49m\u001b[43m,\u001b[49m\u001b[43m \u001b[49m\u001b[43maxis\u001b[49m\u001b[38;5;241;43m=\u001b[39;49m\u001b[43maxis\u001b[49m\u001b[43m,\u001b[49m\u001b[43m \u001b[49m\u001b[43mdtype\u001b[49m\u001b[38;5;241;43m=\u001b[39;49m\u001b[43mdtype\u001b[49m\u001b[43m,\u001b[49m\n\u001b[1;32m   3475\u001b[0m \u001b[43m                      \u001b[49m\u001b[43mout\u001b[49m\u001b[38;5;241;43m=\u001b[39;49m\u001b[43mout\u001b[49m\u001b[43m,\u001b[49m\u001b[43m \u001b[49m\u001b[38;5;241;43m*\u001b[39;49m\u001b[38;5;241;43m*\u001b[39;49m\u001b[43mkwargs\u001b[49m\u001b[43m)\u001b[49m\n",
      "File \u001b[0;32m/opt/tljh/user/lib/python3.9/site-packages/numpy/core/_methods.py:191\u001b[0m, in \u001b[0;36m_mean\u001b[0;34m(a, axis, dtype, out, keepdims, where)\u001b[0m\n\u001b[1;32m    189\u001b[0m         ret \u001b[38;5;241m=\u001b[39m ret\u001b[38;5;241m.\u001b[39mdtype\u001b[38;5;241m.\u001b[39mtype(ret \u001b[38;5;241m/\u001b[39m rcount)\n\u001b[1;32m    190\u001b[0m \u001b[38;5;28;01melse\u001b[39;00m:\n\u001b[0;32m--> 191\u001b[0m     ret \u001b[38;5;241m=\u001b[39m \u001b[43mret\u001b[49m\u001b[43m \u001b[49m\u001b[38;5;241;43m/\u001b[39;49m\u001b[43m \u001b[49m\u001b[43mrcount\u001b[49m\n\u001b[1;32m    193\u001b[0m \u001b[38;5;28;01mreturn\u001b[39;00m ret\n",
      "\u001b[0;31mTypeError\u001b[0m: ufunc 'true_divide' not supported for the input types, and the inputs could not be safely coerced to any supported types according to the casting rule ''safe''"
     ]
    }
   ],
   "source": [
    "stats.describe(titanic['Sex'])"
   ]
  },
  {
   "cell_type": "code",
   "execution_count": null,
   "metadata": {},
   "outputs": [],
   "source": [
    "titanic['Sex'].value_counts()"
   ]
  },
  {
   "cell_type": "code",
   "execution_count": null,
   "metadata": {},
   "outputs": [],
   "source": [
    "titanic.groupby('Sex').size().plot.pie()\n",
    "plt.title(\"Titanic gender distribution\")"
   ]
  },
  {
   "cell_type": "markdown",
   "metadata": {},
   "source": [
    "# Fare x Sex"
   ]
  },
  {
   "cell_type": "code",
   "execution_count": null,
   "metadata": {},
   "outputs": [],
   "source": [
    "titanic.groupby('Sex')['Fare'].describe()"
   ]
  },
  {
   "cell_type": "code",
   "execution_count": null,
   "metadata": {},
   "outputs": [],
   "source": [
    "\n",
    "t=titanic.groupby('Sex')\n",
    "ax = t.boxplot(column='Fare')\n",
    "ax[0].set_ylabel(\"fare\")\n",
    "ax[0].set_xlabel(\"female\")\n",
    "ax[1].set_xlabel(\"male\")\n",
    "ax[0].set_title(\"Fare distribution boxplot for female and male passengers on the Titanic\")\n",
    "ax[1].set_title(\"\")"
   ]
  },
  {
   "cell_type": "code",
   "execution_count": null,
   "metadata": {},
   "outputs": [],
   "source": [
    "props = dict(linewidth=3)\n",
    "\n",
    "ax = titanic.groupby('Sex').boxplot(column='Fare', boxprops = props, medianprops = props)\n",
    "plt.ylim([0,120])\n",
    "ax[0].set_ylabel(\"fare\")\n",
    "ax[0].set_xlabel(\"female\")\n",
    "ax[1].set_xlabel(\"male\")\n",
    "ax[0].set_title(\"Fare distribution boxplot for female and male passengers on the Titanic\")\n",
    "ax[1].set_title(\"\")"
   ]
  },
  {
   "cell_type": "code",
   "execution_count": null,
   "metadata": {},
   "outputs": [],
   "source": [
    "t = titanic.groupby('Sex').hist('Fare')\n"
   ]
  },
  {
   "cell_type": "code",
   "execution_count": null,
   "metadata": {},
   "outputs": [],
   "source": [
    "ax = plt.subplot(1,2,1)\n",
    "h = np.histogram(titanic[titanic['Sex']=='male']['Fare'], bins=[0,1,2,4,8,16,32,64,128,256,512,1024])\n",
    "plt.bar(height=h[0],x=h[1][1:], width=np.diff(h[1]))\n",
    "ax.set_xscale('log')\n",
    "ax.set_title('male')\n",
    "ax = plt.subplot(1,2,2)\n",
    "h = np.histogram(titanic[titanic['Sex']=='female']['Fare'], bins=[0,1,2,4,8,16,32,64,128,256,512,1024])\n",
    "plt.bar(height=h[0],x=h[1][1:], width=np.diff(h[1]))\n",
    "ax.set_xscale('log')\n",
    "ax.set_title('female')\n"
   ]
  },
  {
   "cell_type": "code",
   "execution_count": null,
   "metadata": {},
   "outputs": [],
   "source": [
    "ax = plt.subplot(2,1,1)\n",
    "h = np.histogram(titanic[titanic['Sex']=='male']['Fare'], bins=[0,1,2,4,8,16,32,64,128,256,512,1024])\n",
    "plt.bar(height=h[0],x=h[1][1:], width=np.diff(h[1]))\n",
    "ax.set_xscale('log')\n",
    "ax.set_title('male')\n",
    "ax = plt.subplot(2,1,2)\n",
    "h = np.histogram(titanic[titanic['Sex']=='female']['Fare'], bins=[0,1,2,4,8,16,32,64,128,256,512,1024])\n",
    "plt.bar(height=h[0],x=h[1][1:], width=np.diff(h[1]))\n",
    "ax.set_xscale('log')\n",
    "ax.set_title('female')\n"
   ]
  },
  {
   "cell_type": "markdown",
   "metadata": {},
   "source": [
    "# Passenger Class (Pclass)"
   ]
  },
  {
   "cell_type": "code",
   "execution_count": null,
   "metadata": {},
   "outputs": [],
   "source": [
    "plt.plot(titanic['Pclass'])\n",
    "plt.title(\"passenger classes\")"
   ]
  },
  {
   "cell_type": "code",
   "execution_count": null,
   "metadata": {},
   "outputs": [],
   "source": [
    "t = plt.plot(np.sort(titanic['Pclass']))\n",
    "plt.title(\"passenger classes\")"
   ]
  },
  {
   "cell_type": "code",
   "execution_count": null,
   "metadata": {},
   "outputs": [],
   "source": [
    "h = plt.hist(titanic['Pclass'])\n",
    "plt.title(\"passenger classes\")"
   ]
  },
  {
   "cell_type": "code",
   "execution_count": null,
   "metadata": {},
   "outputs": [],
   "source": [
    "plt.hist(titanic['Pclass'], bins=[1,2,3,4], width =0.9)\n",
    "plt.title(\"passenger classes\")"
   ]
  },
  {
   "cell_type": "markdown",
   "metadata": {},
   "source": [
    "# Pclass x Survived"
   ]
  },
  {
   "cell_type": "code",
   "execution_count": null,
   "metadata": {},
   "outputs": [],
   "source": [
    "from mpl_toolkits.mplot3d import Axes3D \n",
    "\n",
    "hist, xedges, yedges = np.histogram2d(x=titanic['Pclass'],y=titanic['Survived'], range=[[1,3], [0,1]])\n",
    "\n",
    "\n",
    "\n",
    "fig = plt.figure()\n",
    "ax = fig.add_subplot(111, projection='3d')\n",
    "xpos, ypos = np.meshgrid(xedges[:-1] + 0.25, yedges[:-1] + 0.25, indexing=\"ij\")\n",
    "xpos = xpos.ravel()\n",
    "ypos = ypos.ravel()\n",
    "zpos = 0\n",
    "\n",
    "# Construct arrays with the dimensions for the 16 bars.\n",
    "dx = dy = 0.5 * np.ones_like(zpos)\n",
    "dz = hist.ravel()\n",
    "\n",
    "ax.bar3d(xpos, ypos, zpos, dx, dy, dz, zsort='average')\n",
    "plt.title(\"survival rate vs passenger class\")\n",
    "plt.show()\n",
    "\n"
   ]
  },
  {
   "cell_type": "code",
   "execution_count": null,
   "metadata": {},
   "outputs": [],
   "source": [
    "h=titanic.groupby('Pclass').hist('Survived')\n"
   ]
  },
  {
   "cell_type": "code",
   "execution_count": null,
   "metadata": {},
   "outputs": [],
   "source": [
    "h0 = np.histogram(titanic[titanic['Survived']==0]['Pclass'],bins=range(1,5))\n",
    "h1 = np.histogram(titanic[titanic['Survived']==1]['Pclass'],bins=range(1,5))\n",
    "ax = plt.subplot(111)\n",
    "ax.bar(range(1,4), h0[0], color='r', width = 0.25, align='center')\n",
    "ax.bar([1.25, 2.25, 3.25], h1[0], color='g', width = 0.25, align='center')\n",
    "ax.legend(['died', 'survived'])\n",
    "ax.set_xlabel('passenger class')"
   ]
  },
  {
   "cell_type": "code",
   "execution_count": null,
   "metadata": {},
   "outputs": [],
   "source": [
    "h = titanic.groupby('Survived')['Pclass'].value_counts()\n",
    "df = h.reset_index('Survived')\n",
    "h0 = np.histogram(titanic[titanic['Survived']==0]['Pclass'],bins=range(1,5))\n",
    "h1 = np.histogram(titanic[titanic['Survived']==1]['Pclass'],bins=range(1,5))\n",
    "ax = plt.subplot(111)\n",
    "ax.bar(range(1,4), h0[0], color='k', width = 0.25, align='center')\n",
    "ax.bar([1.25, 2.25, 3.25], h1[0], color='c', width = 0.25, align='center')\n",
    "ax.legend(['died', 'survived'])\n",
    "ax.set_xlabel('passenger class')"
   ]
  },
  {
   "cell_type": "markdown",
   "metadata": {},
   "source": [
    "# Fare x Age"
   ]
  },
  {
   "cell_type": "code",
   "execution_count": null,
   "metadata": {},
   "outputs": [],
   "source": [
    "df = titanic.dropna()\n",
    "plt.plot(df['Age'], df['Fare'])\n",
    "plt.title(\"age by fare\")\n",
    "plt.xlabel(\"age\")\n",
    "plt.ylabel(\"fare\")"
   ]
  },
  {
   "cell_type": "code",
   "execution_count": null,
   "metadata": {},
   "outputs": [],
   "source": [
    "plt.scatter(df['Age'], df['Fare'])\n",
    "plt.xlabel(\"age\")\n",
    "plt.ylabel(\"fare\")"
   ]
  },
  {
   "cell_type": "code",
   "execution_count": null,
   "metadata": {},
   "outputs": [],
   "source": [
    "ax = plt.subplot(111)\n",
    "plt.scatter(df['Age'], np.log(df['Fare']))\n",
    "plt.xlabel(\"age\")\n",
    "plt.ylabel(\"log-fare\")\n"
   ]
  },
  {
   "cell_type": "markdown",
   "metadata": {},
   "source": [
    "# Survived x SibSp"
   ]
  },
  {
   "cell_type": "code",
   "execution_count": null,
   "metadata": {},
   "outputs": [],
   "source": [
    "m0 = np.mean(titanic[titanic['Survived']==0]['SibSp'])\n",
    "m1 = np.mean(titanic[titanic['Survived']==1]['SibSp'])\n",
    "plt.bar(height=[m0,m1],x=[0,1])\n",
    "plt.ylim([0.46,0.56])"
   ]
  },
  {
   "cell_type": "code",
   "execution_count": null,
   "metadata": {},
   "outputs": [],
   "source": [
    "m0 = np.mean(titanic[titanic['Survived']==0]['SibSp'])\n",
    "m1 = np.mean(titanic[titanic['Survived']==1]['SibSp'])\n",
    "plt.bar(height=[m0,m1],x=[0,1])\n",
    "plt.ylim([0,0.56])"
   ]
  },
  {
   "cell_type": "code",
   "execution_count": null,
   "metadata": {},
   "outputs": [],
   "source": [
    "x = titanic['Survived']\n",
    "y = titanic['SibSp']\n",
    "plt.scatter(x,y)"
   ]
  },
  {
   "cell_type": "code",
   "execution_count": null,
   "metadata": {},
   "outputs": [],
   "source": [
    "x = titanic['Survived']\n",
    "y = titanic['SibSp']\n",
    "plt.scatter(x,y,alpha=0.05)"
   ]
  },
  {
   "cell_type": "code",
   "execution_count": null,
   "metadata": {},
   "outputs": [],
   "source": [
    "x = titanic['Survived'] + np.random.normal(size=(len(x))) * 0.1\n",
    "y = titanic['SibSp'] + np.random.normal(size=(len(x))) * 0.1\n",
    "p = plt.scatter(x,y)"
   ]
  },
  {
   "cell_type": "code",
   "execution_count": null,
   "metadata": {},
   "outputs": [],
   "source": [
    "x = titanic['Survived'] + np.random.normal(size=(len(x))) * 0.1\n",
    "y = titanic['SibSp'] + np.random.normal(size=(len(x))) * 0.1\n",
    "p = plt.scatter(x,y,alpha=0.3)"
   ]
  },
  {
   "cell_type": "markdown",
   "metadata": {},
   "source": [
    "# Misc "
   ]
  },
  {
   "cell_type": "code",
   "execution_count": null,
   "metadata": {},
   "outputs": [],
   "source": [
    "titanic.describe()"
   ]
  }
 ],
 "metadata": {
  "kernelspec": {
   "display_name": "Python 3 (ipykernel)",
   "language": "python",
   "name": "python3"
  },
  "language_info": {
   "codemirror_mode": {
    "name": "ipython",
    "version": 3
   },
   "file_extension": ".py",
   "mimetype": "text/x-python",
   "name": "python",
   "nbconvert_exporter": "python",
   "pygments_lexer": "ipython3",
   "version": "3.9.7"
  }
 },
 "nbformat": 4,
 "nbformat_minor": 2
}
