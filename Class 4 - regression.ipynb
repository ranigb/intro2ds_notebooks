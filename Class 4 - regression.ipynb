{
 "cells": [
  {
   "cell_type": "code",
   "execution_count": null,
   "metadata": {},
   "outputs": [],
   "source": [
    "import numpy as np\n",
    "import matplotlib.pyplot as plt\n",
    "from scipy.stats import norm\n",
    "from sklearn.neighbors import KNeighborsRegressor"
   ]
  },
  {
   "cell_type": "code",
   "execution_count": null,
   "metadata": {},
   "outputs": [],
   "source": [
    "X = np.random.uniform(size=(20,1))\n",
    "Y = 2 * X + 5 + 0.2 * np.random.normal(size = X.shape)\n",
    "p = plt.scatter(X, Y)\n",
    "plt.xlabel('Observed value')\n",
    "plt.ylabel('Target value')"
   ]
  },
  {
   "cell_type": "code",
   "execution_count": null,
   "metadata": {},
   "outputs": [],
   "source": [
    "k = 1\n",
    "kNN = KNeighborsRegressor(n_neighbors=k)\n",
    "kNN.fit(X,Y)\n",
    "Xprime = np.random.uniform(size=(10000,1))\n",
    "Xprime = np.sort(Xprime, axis=0)\n",
    "Yprime = kNN.predict(Xprime)\n",
    "plt.plot(Xprime, Yprime, label=\"predictions\", color = 'black')\n",
    "plt.scatter(X, Y, label=\"data\")\n",
    "plt.legend()\n",
    "plt.xlabel('Observed value')\n",
    "plt.ylabel('Target / Predicted value')\n"
   ]
  },
  {
   "cell_type": "code",
   "execution_count": null,
   "metadata": {},
   "outputs": [],
   "source": [
    "Ks = [1,5,10,20]\n",
    "figs, axes = plt.subplots(2, int((len(Ks) + 1)/2))\n",
    "axs = axes.flatten()\n",
    "for i in range(0,len(Ks)):\n",
    "    k = Ks[i]\n",
    "    \n",
    "    kNN = KNeighborsRegressor(n_neighbors=k)\n",
    "    kNN.fit(X,Y)\n",
    "    Xprime = np.random.uniform(size=(10000,1))\n",
    "    Xprime = np.sort(Xprime, axis=0)\n",
    "    Yprime = kNN.predict(Xprime)\n",
    "    axs[i].plot(Xprime, Yprime, label=\"predictions\", color = 'black')\n",
    "    axs[i].scatter(X, Y, label=\"data\")\n",
    "    axs[i].set_title(\"k = \" + str(k))\n",
    "    axs[i].set_xlabel('Observed value')\n",
    "    axs[i].set_ylabel('Target/Prediction')\n",
    "plt.tight_layout()\n"
   ]
  },
  {
   "cell_type": "markdown",
   "metadata": {},
   "source": [
    "# Increased sample size"
   ]
  },
  {
   "cell_type": "code",
   "execution_count": null,
   "metadata": {},
   "outputs": [],
   "source": [
    "def draw(m):\n",
    "    X = np.random.uniform(size=(m,1))\n",
    "    Y = 2 * X + 5 + 0.2 * np.random.normal(size = X.shape)\n",
    "    p = plt.scatter(X, Y)\n",
    "    plt.xlabel('Observed value')\n",
    "    plt.ylabel('Target value')\n",
    "\n",
    "    Ks = [1,5,10,20]\n",
    "    figs, axes = plt.subplots(2, int((len(Ks) + 1)/2))\n",
    "    axs = axes.flatten()\n",
    "    for i in range(0,len(Ks)):\n",
    "        k = Ks[i]\n",
    "    \n",
    "        kNN = KNeighborsRegressor(n_neighbors=k)\n",
    "        kNN.fit(X,Y)\n",
    "        Xprime = np.random.uniform(size=(10000,1))\n",
    "        Xprime = np.sort(Xprime, axis=0)\n",
    "        Yprime = kNN.predict(Xprime)\n",
    "        axs[i].scatter(X, Y, label=\"data\")\n",
    "        axs[i].plot(Xprime, Yprime, label=\"predictions\", color = 'black')\n",
    "        axs[i].set_title(\"k = \" + str(k))\n",
    "        axs[i].set_xlabel('Observed value')\n",
    "        axs[i].set_ylabel('Target/Prediction')\n",
    "\n",
    "    plt.tight_layout()\n"
   ]
  },
  {
   "cell_type": "code",
   "execution_count": null,
   "metadata": {},
   "outputs": [],
   "source": [
    "draw(20)"
   ]
  },
  {
   "cell_type": "markdown",
   "metadata": {},
   "source": [
    "# linear regression"
   ]
  },
  {
   "cell_type": "code",
   "execution_count": null,
   "metadata": {},
   "outputs": [],
   "source": [
    "X = np.random.uniform(size=(50,1))\n",
    "Y = 2 * X + 5 + 0.2 * np.random.normal(size = X.shape)\n",
    "p = plt.scatter(X, Y)\n",
    "plt.xlabel('Observed value')\n",
    "plt.ylabel('Target value')\n"
   ]
  },
  {
   "cell_type": "code",
   "execution_count": null,
   "metadata": {},
   "outputs": [],
   "source": [
    "from sklearn.linear_model import LinearRegression"
   ]
  },
  {
   "cell_type": "code",
   "execution_count": null,
   "metadata": {
    "scrolled": true
   },
   "outputs": [],
   "source": [
    "reg = LinearRegression().fit(X, Y)\n",
    "print(\"slope = \", reg.coef_[0][0], \" offset = \", reg.intercept_[0])\n",
    "plt.scatter(X, Y)\n",
    "plt.plot([0, 1],[reg.intercept_[0], reg.coef_[0][0] + reg.intercept_[0]], color=\"black\")\n",
    "plt.xlabel('Observed value')\n",
    "plt.ylabel('Target / Predicted value')\n"
   ]
  },
  {
   "cell_type": "markdown",
   "metadata": {},
   "source": [
    "# Non-linearity"
   ]
  },
  {
   "cell_type": "code",
   "execution_count": null,
   "metadata": {},
   "outputs": [],
   "source": [
    "X = np.random.uniform(size=(150,1))\n",
    "Y = 1000 * X**2 + 2 * X + 5 + 25 * np.random.normal(size = X.shape)\n",
    "p = plt.scatter(X, Y)\n",
    "reg = LinearRegression().fit(X, Y)\n",
    "print(\"slope = \", reg.coef_[0][0], \" offset = \", reg.intercept_[0])\n",
    "plt.scatter(X, Y, color= \"orange\")\n",
    "plt.plot([0, 1],[reg.intercept_[0], reg.coef_[0][0] + reg.intercept_[0]], color=\"black\")\n",
    "plt.xlabel('Observed value')\n",
    "plt.ylabel('Target / Predicted value')\n"
   ]
  },
  {
   "cell_type": "code",
   "execution_count": null,
   "metadata": {},
   "outputs": [],
   "source": [
    "X2 = np.c_[X, X**2]\n",
    "reg = LinearRegression().fit(X2, Y)\n",
    "print(\"slope = \", reg.coef_[0], \" offset = \", reg.intercept_[0])\n",
    "plt.scatter(X, Y, color = \"orange\")\n",
    "\n",
    "Xprime = np.sort(np.random.uniform(size=(150,1)), axis=0)\n",
    "Xprime2 = np.c_[Xprime, Xprime * Xprime]\n",
    "Yprime = reg.predict(Xprime2)\n",
    "plt.plot(Xprime, Yprime, color = \"black\")\n",
    "plt.xlabel('Observed value')\n",
    "plt.ylabel('Target / Predicted value')\n"
   ]
  },
  {
   "cell_type": "markdown",
   "metadata": {},
   "source": [
    "# Corona"
   ]
  },
  {
   "cell_type": "code",
   "execution_count": null,
   "metadata": {},
   "outputs": [],
   "source": [
    "sick = [16, 20, 22, 37, 39, 59, 77, 99, 130, 164, 200, 253, 318, 421, 524,677, 838, 943, 1207, 1552, 2000,2463, 3011, 3403, 3824, 4247, 4695, 5358, 6092]\n",
    "\n",
    "X= np.array(range(0,len(sick))).reshape(-1, 1)\n",
    "Y = sick\n",
    "reg = LinearRegression().fit(X, Y)\n",
    "print(\"slope = \", reg.coef_[0], \" offset = \", reg.intercept_)\n",
    "plt.plot(X, Y, color= \"orange\")\n",
    "plt.plot([0, len(sick) - 1],[reg.intercept_, (len(sick) - 1)* reg.coef_[0] + reg.intercept_], color=\"black\")\n",
    "plt.title('linear regression')\n",
    "plt.xlabel('Day')\n",
    "plt.ylabel('Number of infections')\n"
   ]
  },
  {
   "cell_type": "code",
   "execution_count": null,
   "metadata": {},
   "outputs": [],
   "source": [
    "\n",
    "X= np.array(range(0,len(sick))).reshape(-1, 1)\n",
    "Y = np.log(sick)\n",
    "reg = LinearRegression().fit(X, Y)\n",
    "print(\"slope = \", reg.coef_[0], \" offset = \", reg.intercept_)\n",
    "plt.plot(X, Y, color= \"orange\")\n",
    "plt.plot([0, len(sick) - 1],[reg.intercept_, (len(sick) - 1)* reg.coef_[0] + reg.intercept_], color=\"black\")\n",
    "plt.title('linear regression - log transform')\n",
    "plt.xlabel('Day')\n",
    "plt.ylabel('Number of infections')\n"
   ]
  },
  {
   "cell_type": "code",
   "execution_count": null,
   "metadata": {},
   "outputs": [],
   "source": [
    "plt.plot(X, sick, color= \"orange\")\n",
    "Yprime = np.exp(reg.predict(X))\n",
    "plt.plot(X, Yprime, color=\"black\")\n",
    "plt.title('linear regression - exp of log transform')\n",
    "plt.xlabel('Day')\n",
    "plt.ylabel('Number of infections')\n"
   ]
  },
  {
   "cell_type": "code",
   "execution_count": null,
   "metadata": {},
   "outputs": [],
   "source": [
    "kNN = KNeighborsRegressor(n_neighbors=1)\n",
    "kNN.fit(X,sick)\n",
    "Yprime = kNN.predict(X)\n",
    "plt.plot(X, sick, color= \"orange\")\n",
    "plt.plot(X,Yprime, color=\"black\")\n",
    "plt.title('kNN')\n",
    "plt.xlabel('Day')\n",
    "plt.ylabel('Number of infections')\n"
   ]
  },
  {
   "cell_type": "code",
   "execution_count": null,
   "metadata": {},
   "outputs": [],
   "source": [
    "\n",
    "X= np.array(range(0,len(sick))).reshape(-1, 1)\n",
    "Y = np.log(sick)\n",
    "reg = LinearRegression().fit(X[:15], Y[:15])\n",
    "print(\"slope = \", reg.coef_[0], \" offset = \", reg.intercept_)\n",
    "plt.plot(X, Y, color= \"orange\")\n",
    "plt.plot([0, len(sick) - 1],[reg.intercept_, (len(sick) - 1)* reg.coef_[0] + reg.intercept_], color=\"black\")\n",
    "plt.title('Linear Regression (15 days) - log transform')\n",
    "plt.xlabel('Day')\n",
    "plt.ylabel('Number of infections')\n"
   ]
  },
  {
   "cell_type": "code",
   "execution_count": null,
   "metadata": {},
   "outputs": [],
   "source": [
    "plt.plot(X, sick, color= \"orange\")\n",
    "Yprime = np.exp(reg.predict(X))\n",
    "plt.plot(X, Yprime, color=\"black\")\n",
    "plt.title('linear regression - (15 days) exp of log transform')\n",
    "plt.xlabel('Day')\n",
    "plt.ylabel('Number of infections')\n"
   ]
  },
  {
   "cell_type": "code",
   "execution_count": null,
   "metadata": {},
   "outputs": [],
   "source": [
    "kNN = KNeighborsRegressor(n_neighbors=1)\n",
    "kNN.fit(X[:15],sick[:15])\n",
    "Yprime = kNN.predict(X)\n",
    "plt.plot(X, sick, color= \"orange\")\n",
    "plt.plot(X,Yprime, color=\"black\")\n",
    "plt.title('kNN - 15 days')\n",
    "plt.xlabel('Day')\n",
    "plt.ylabel('Number of infections')\n"
   ]
  },
  {
   "cell_type": "code",
   "execution_count": null,
   "metadata": {},
   "outputs": [],
   "source": [
    "X= np.array(range(0,len(sick))).reshape(-1, 1)\n",
    "Y = sick\n",
    "reg = LinearRegression().fit(X[:15], Y[:15])\n",
    "print(\"slope = \", reg.coef_[0], \" offset = \", reg.intercept_)\n",
    "plt.plot(X, Y, color= \"orange\")\n",
    "plt.plot([0, len(sick) - 1],[reg.intercept_, (len(sick) - 1)* reg.coef_[0] + reg.intercept_], color=\"black\")\n",
    "plt.title('linear regression - 15 days')\n",
    "plt.xlabel('Day')\n",
    "plt.ylabel('Number of infections')\n"
   ]
  },
  {
   "cell_type": "code",
   "execution_count": null,
   "metadata": {},
   "outputs": [],
   "source": []
  }
 ],
 "metadata": {
  "kernelspec": {
   "display_name": "Python 3",
   "language": "python",
   "name": "python3"
  },
  "language_info": {
   "codemirror_mode": {
    "name": "ipython",
    "version": 3
   },
   "file_extension": ".py",
   "mimetype": "text/x-python",
   "name": "python",
   "nbconvert_exporter": "python",
   "pygments_lexer": "ipython3",
   "version": "3.8.5"
  }
 },
 "nbformat": 4,
 "nbformat_minor": 2
}