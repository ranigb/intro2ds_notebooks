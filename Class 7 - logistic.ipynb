{
 "cells": [
  {
   "cell_type": "code",
   "execution_count": null,
   "metadata": {},
   "outputs": [],
   "source": [
    "from sklearn.datasets import make_gaussian_quantiles\n",
    "import matplotlib.pyplot as plt\n",
    "from sklearn.linear_model import LogisticRegression\n",
    "from sklearn.model_selection import train_test_split\n",
    "from sklearn.metrics import classification_report\n",
    "from sklearn.preprocessing import PolynomialFeatures\n",
    "from sklearn.preprocessing import MinMaxScaler\n",
    "from sklearn.preprocessing import StandardScaler\n",
    "\n",
    "import pandas as pd\n",
    "import numpy as np"
   ]
  },
  {
   "cell_type": "markdown",
   "metadata": {},
   "source": [
    "## Helper functions"
   ]
  },
  {
   "cell_type": "code",
   "execution_count": null,
   "metadata": {},
   "outputs": [],
   "source": [
    "def draw(X, y):\n",
    "    color = ['c', 'r']\n",
    "    p = np.random.permutation(len(y))\n",
    "    if (np.min(y) < 0):\n",
    "        c = [color[(t + 1)/2] for t in y[p]]\n",
    "    else:\n",
    "        c = [color[t] for t in y[p]]\n",
    "    plt.scatter(X[p,0], X[p,1],color=c,alpha=0.1)\n",
    "    \n",
    "    \n",
    "def draw2(X1, X2):\n",
    "    y1 = [0 for x in X1]\n",
    "    y2 = [1 for x in X2]\n",
    "    X = np.concatenate([X1,X2], axis=0)\n",
    "    y = np.concatenate([y1, y2])\n",
    "   \n",
    "    draw(X, y)\n",
    "    \n"
   ]
  },
  {
   "cell_type": "markdown",
   "metadata": {},
   "source": [
    "## Two Gussians"
   ]
  },
  {
   "cell_type": "code",
   "execution_count": null,
   "metadata": {},
   "outputs": [],
   "source": [
    "# Construct dataset\n",
    "# Gaussian 1\n",
    "X1, y1 = make_gaussian_quantiles(cov=1.,\n",
    "                                 n_samples=5000, n_features=2,\n",
    "                                 n_classes=1, random_state=1)\n",
    "\n",
    "\n",
    "X2, y2 = make_gaussian_quantiles(cov=1., mean=(2,2),\n",
    "                                 n_samples=5000, n_features=2,\n",
    "                                 n_classes=1, random_state=1)\n",
    "\n",
    "\n",
    "#plt.scatter(X1[:,0], X1[:,1], color = 'r', alpha=0.1)\n",
    "#plt.scatter(X2[:,0], X2[:,1], color = 'c', alpha=0.1)\n",
    "draw2(X1, X2)\n",
    "X = np.concatenate([X1,X2], axis=0)\n",
    "y = np.concatenate([y1, y2 + 1])\n"
   ]
  },
  {
   "cell_type": "code",
   "execution_count": null,
   "metadata": {},
   "outputs": [],
   "source": [
    "X_train, X_test, y_train, y_test = train_test_split(X, y, test_size=0.20, random_state=101)\n",
    "logmodel = LogisticRegression()\n",
    "logmodel.fit(X_train,y_train)\n",
    "predictions = logmodel.predict(X_test)\n",
    "draw(X_test, predictions)"
   ]
  },
  {
   "cell_type": "code",
   "execution_count": null,
   "metadata": {},
   "outputs": [],
   "source": [
    "print(classification_report(y_test, predictions))"
   ]
  },
  {
   "cell_type": "markdown",
   "metadata": {},
   "source": [
    "## XOR"
   ]
  },
  {
   "cell_type": "code",
   "execution_count": null,
   "metadata": {},
   "outputs": [],
   "source": [
    "X1, y1 = make_gaussian_quantiles(cov=0.5,mean=(-1,-1),\n",
    "                                 n_samples=5000, n_features=2,\n",
    "                                 n_classes=1, random_state=1)\n",
    "\n",
    "\n",
    "X2, y2 = make_gaussian_quantiles(cov=0.5, mean=(-1,1),\n",
    "                                 n_samples=5000, n_features=2,\n",
    "                                 n_classes=1, random_state=1)\n",
    "\n",
    "X3, y3 = make_gaussian_quantiles(cov=0.5,mean=(1,1),\n",
    "                                 n_samples=5000, n_features=2,\n",
    "                                 n_classes=1, random_state=1)\n",
    "\n",
    "\n",
    "X4, y4 = make_gaussian_quantiles(cov=0.5, mean=(1,-1),\n",
    "                                 n_samples=5000, n_features=2,\n",
    "                                 n_classes=1, random_state=1)\n",
    "\n",
    "Xpos = np.concatenate([X1,X3], axis=0)\n",
    "Xneg = np.concatenate([X2,X4], axis=0)\n",
    "X = np.concatenate([X1, X2, X3, X4], axis = 0)\n",
    "y = np.concatenate([y1, y2+1, y3, y4+ 1], axis = 0)\n",
    "draw(X,y)"
   ]
  },
  {
   "cell_type": "code",
   "execution_count": null,
   "metadata": {},
   "outputs": [],
   "source": [
    "X_train, X_test, y_train, y_test = train_test_split(X, y, test_size=0.20, random_state=101)\n",
    "logmodel = LogisticRegression()\n",
    "logmodel.fit(X_train,y_train)\n",
    "predictions = logmodel.predict(X_test)\n",
    "print(classification_report(y_test, predictions))\n",
    "draw(X_test,predictions)"
   ]
  },
  {
   "cell_type": "markdown",
   "metadata": {},
   "source": [
    "## Poly(2) features"
   ]
  },
  {
   "cell_type": "code",
   "execution_count": null,
   "metadata": {},
   "outputs": [],
   "source": [
    "poly = PolynomialFeatures(2)\n",
    "\n",
    "X_train_poly = poly.fit_transform(X_train)\n",
    "X_test_poly = poly.fit_transform(X_test)\n",
    "logmodel = LogisticRegression()\n",
    "logmodel.fit(X_train_poly,y_train)\n",
    "predictions = logmodel.predict(X_test_poly)\n",
    "print(classification_report(y_test, predictions))\n",
    "draw(X_test,predictions)"
   ]
  },
  {
   "cell_type": "markdown",
   "metadata": {},
   "source": [
    "## Poly(>>2) features"
   ]
  },
  {
   "cell_type": "code",
   "execution_count": null,
   "metadata": {},
   "outputs": [],
   "source": [
    "poly = PolynomialFeatures(25)\n",
    "\n",
    "X_train_poly = poly.fit_transform(X_train)\n",
    "X_test_poly = poly.fit_transform(X_test)\n",
    "logmodel = LogisticRegression()\n",
    "logmodel.fit(X_train_poly,y_train)\n",
    "predictions = logmodel.predict(X_test_poly)\n",
    "print(classification_report(y_test, predictions))\n",
    "draw(X_test,predictions)"
   ]
  },
  {
   "cell_type": "markdown",
   "metadata": {},
   "source": [
    "## Regularization"
   ]
  },
  {
   "cell_type": "code",
   "execution_count": null,
   "metadata": {},
   "outputs": [],
   "source": [
    "logmodel = LogisticRegression(C=1e-22)\n",
    "logmodel.fit(X_train_poly,y_train)\n",
    "predictions = logmodel.predict(X_test_poly)\n",
    "print(classification_report(y_test, predictions))\n",
    "draw(X_test,predictions)"
   ]
  },
  {
   "cell_type": "markdown",
   "metadata": {},
   "source": [
    "## Adding offset"
   ]
  },
  {
   "cell_type": "code",
   "execution_count": null,
   "metadata": {},
   "outputs": [],
   "source": [
    "X1, y1 = make_gaussian_quantiles(cov=0.5,mean=(-1,-1+100),\n",
    "                                 n_samples=5000, n_features=2,\n",
    "                                 n_classes=1, random_state=1)\n",
    "\n",
    "\n",
    "X2, y2 = make_gaussian_quantiles(cov=0.5, mean=(-1,1+100),\n",
    "                                 n_samples=5000, n_features=2,\n",
    "                                 n_classes=1, random_state=1)\n",
    "\n",
    "X3, y3 = make_gaussian_quantiles(cov=0.5,mean=(1,1+100),\n",
    "                                 n_samples=5000, n_features=2,\n",
    "                                 n_classes=1, random_state=1)\n",
    "\n",
    "\n",
    "X4, y4 = make_gaussian_quantiles(cov=0.5, mean=(1,-1+100),\n",
    "                                 n_samples=5000, n_features=2,\n",
    "                                 n_classes=1, random_state=1)\n",
    "\n",
    "Xpos = np.concatenate([X1,X3], axis=0)\n",
    "Xneg = np.concatenate([X2,X4], axis=0)\n",
    "X = np.concatenate([X1, X2, X3, X4], axis = 0)\n",
    "y = np.concatenate([y1, y2+1, y3, y4+ 1], axis = 0)\n",
    "draw(X,y)"
   ]
  },
  {
   "cell_type": "code",
   "execution_count": null,
   "metadata": {},
   "outputs": [],
   "source": [
    "poly = PolynomialFeatures(2)\n",
    "X_train, X_test, y_train, y_test = train_test_split(X, y, test_size=0.20, random_state=101)\n",
    "X_train_poly = poly.fit_transform(X_train)\n",
    "X_test_poly = poly.fit_transform(X_test)\n",
    "logmodel = LogisticRegression()\n",
    "logmodel.fit(X_train_poly,y_train)\n",
    "predictions = logmodel.predict(X_test_poly)\n",
    "print(classification_report(y_test, predictions))\n",
    "draw(X_test,predictions)"
   ]
  },
  {
   "cell_type": "markdown",
   "metadata": {},
   "source": [
    "## min-max normalization"
   ]
  },
  {
   "cell_type": "code",
   "execution_count": null,
   "metadata": {},
   "outputs": [],
   "source": [
    "scaler = MinMaxScaler(feature_range = (0,1))\n",
    "\n",
    "scaler.fit(X_train)\n",
    "X_train = scaler.transform(X_train)\n",
    "X_test = scaler.transform(X_test)\n",
    "X_train_poly = poly.fit_transform(X_train)\n",
    "X_test_poly = poly.fit_transform(X_test)\n",
    "logmodel = LogisticRegression()\n",
    "logmodel.fit(X_train_poly,y_train)\n",
    "predictions = logmodel.predict(X_test_poly)\n",
    "print(classification_report(y_test, predictions))\n",
    "draw(X_test,predictions)"
   ]
  },
  {
   "cell_type": "markdown",
   "metadata": {},
   "source": [
    "## standard normalization"
   ]
  },
  {
   "cell_type": "code",
   "execution_count": null,
   "metadata": {},
   "outputs": [],
   "source": [
    "scaler = StandardScaler()\n",
    "X_train, X_test, y_train, y_test = train_test_split(X, y, test_size=0.20, random_state=101)\n",
    "scaler.fit(X_train)\n",
    "X_train = scaler.transform(X_train)\n",
    "X_test = scaler.transform(X_test)\n",
    "X_train_poly = poly.fit_transform(X_train)\n",
    "X_test_poly = poly.fit_transform(X_test)\n",
    "logmodel = LogisticRegression()\n",
    "logmodel.fit(X_train_poly,y_train)\n",
    "predictions = logmodel.predict(X_test_poly)\n",
    "print(classification_report(y_test, predictions))\n",
    "draw(X_test,predictions)"
   ]
  },
  {
   "cell_type": "code",
   "execution_count": null,
   "metadata": {},
   "outputs": [],
   "source": []
  }
 ],
 "metadata": {
  "kernelspec": {
   "display_name": "Python 3",
   "language": "python",
   "name": "python3"
  },
  "language_info": {
   "codemirror_mode": {
    "name": "ipython",
    "version": 3
   },
   "file_extension": ".py",
   "mimetype": "text/x-python",
   "name": "python",
   "nbconvert_exporter": "python",
   "pygments_lexer": "ipython3",
   "version": "3.8.10"
  }
 },
 "nbformat": 4,
 "nbformat_minor": 2
}
